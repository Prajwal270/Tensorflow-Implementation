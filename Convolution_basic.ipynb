{
  "nbformat": 4,
  "nbformat_minor": 0,
  "metadata": {
    "colab": {
      "name": "Convolution_basic.ipynb",
      "provenance": [],
      "toc_visible": true,
      "authorship_tag": "ABX9TyN0J+rLcbOSUZ8VxQD1FYSA"
    },
    "kernelspec": {
      "name": "python3",
      "display_name": "Python 3"
    }
  },
  "cells": [
    {
      "cell_type": "code",
      "metadata": {
        "id": "xN8zEZX1MiYi",
        "colab_type": "code",
        "colab": {
          "base_uri": "https://localhost:8080/",
          "height": 34
        },
        "outputId": "0c4a6e0f-0899-41c1-ebfd-7ab37b0c03a7"
      },
      "source": [
        "print('Convolution Basic')"
      ],
      "execution_count": 1,
      "outputs": [
        {
          "output_type": "stream",
          "text": [
            "Convolution Basic\n"
          ],
          "name": "stdout"
        }
      ]
    },
    {
      "cell_type": "markdown",
      "metadata": {
        "id": "ZRSSjuIAPyUP",
        "colab_type": "text"
      },
      "source": [
        "### Convolution: 1D operation with Python (Numpy/Scipy)"
      ]
    },
    {
      "cell_type": "code",
      "metadata": {
        "id": "Edrw03XmNS3Y",
        "colab_type": "code",
        "colab": {}
      },
      "source": [
        "import numpy as np\n"
      ],
      "execution_count": 0,
      "outputs": []
    },
    {
      "cell_type": "markdown",
      "metadata": {
        "id": "K5qMQl2ZQrD5",
        "colab_type": "text"
      },
      "source": [
        "## There are three methods to apply kernel on the matrix :\n",
        "\n",
        "1. With Padding(full)\n",
        "2. With Padding(same)\n",
        "3. Without Padding(valid)"
      ]
    },
    {
      "cell_type": "code",
      "metadata": {
        "id": "Y-8iltZkQiBO",
        "colab_type": "code",
        "colab": {}
      },
      "source": [
        "#Definig the image and kernel \n",
        "\n",
        "\n",
        "h = [3,8,5,3,2] # Image\n",
        "x = [2,6,7] # Kernel"
      ],
      "execution_count": 0,
      "outputs": []
    },
    {
      "cell_type": "code",
      "metadata": {
        "id": "fS84-9VRRVQX",
        "colab_type": "code",
        "colab": {
          "base_uri": "https://localhost:8080/",
          "height": 34
        },
        "outputId": "ecf9ec9b-52f5-49a9-8e84-ec66ddc0fa50"
      },
      "source": [
        "# Convolution Operation With Padding (full)\n",
        "\n",
        "y = np.convolve(x,h) # default value is full (or) we can even specify 'full'\n",
        "print(y)"
      ],
      "execution_count": 9,
      "outputs": [
        {
          "output_type": "stream",
          "text": [
            "[ 6 34 79 92 57 33 14]\n"
          ],
          "name": "stdout"
        }
      ]
    },
    {
      "cell_type": "code",
      "metadata": {
        "id": "cN4FbU2XRmgX",
        "colab_type": "code",
        "colab": {
          "base_uri": "https://localhost:8080/",
          "height": 34
        },
        "outputId": "ae5f6e75-b453-4bf6-b86a-b54401aac29f"
      },
      "source": [
        "# Convolution Operation With Padding (Same)\n",
        "y2 = np.convolve(x,h,'same')\n",
        "y2"
      ],
      "execution_count": 10,
      "outputs": [
        {
          "output_type": "execute_result",
          "data": {
            "text/plain": [
              "array([34, 79, 92, 57, 33])"
            ]
          },
          "metadata": {
            "tags": []
          },
          "execution_count": 10
        }
      ]
    },
    {
      "cell_type": "code",
      "metadata": {
        "id": "rCg8jtWrSSFk",
        "colab_type": "code",
        "colab": {
          "base_uri": "https://localhost:8080/",
          "height": 34
        },
        "outputId": "eed0daa3-45b5-4895-e075-11866a79e761"
      },
      "source": [
        "y3 = np.convolve(x, h ,'valid')\n",
        "y3"
      ],
      "execution_count": 11,
      "outputs": [
        {
          "output_type": "execute_result",
          "data": {
            "text/plain": [
              "array([79, 92, 57])"
            ]
          },
          "metadata": {
            "tags": []
          },
          "execution_count": 11
        }
      ]
    },
    {
      "cell_type": "markdown",
      "metadata": {
        "id": "osmfAUuaS1Se",
        "colab_type": "text"
      },
      "source": [
        "### Convolution: 2D operation with Python (Numpy/Scipy)"
      ]
    },
    {
      "cell_type": "code",
      "metadata": {
        "id": "ambCXVSbS0is",
        "colab_type": "code",
        "colab": {}
      },
      "source": [
        "# Defining Sample Image and Kernel\n",
        "\n",
        "I = [[2,3,4],\n",
        "     [6,4,2],\n",
        "     [9,6,7],] # Image\n",
        "\n",
        "k =[[-1, 2]] # Kernel    "
      ],
      "execution_count": 0,
      "outputs": []
    },
    {
      "cell_type": "code",
      "metadata": {
        "id": "OHRZly50SXZS",
        "colab_type": "code",
        "colab": {
          "base_uri": "https://localhost:8080/",
          "height": 70
        },
        "outputId": "25eb9c92-50cb-4b51-85a7-ff97a0c6c5e9"
      },
      "source": [
        "# Convolution Operation (full)\n",
        "from scipy import signal as sg\n",
        "\n",
        "y1 = sg.convolve(I, k, 'full')\n",
        "y1 "
      ],
      "execution_count": 19,
      "outputs": [
        {
          "output_type": "execute_result",
          "data": {
            "text/plain": [
              "array([[-2,  1,  2,  8],\n",
              "       [-6,  8,  6,  4],\n",
              "       [-9, 12,  5, 14]])"
            ]
          },
          "metadata": {
            "tags": []
          },
          "execution_count": 19
        }
      ]
    },
    {
      "cell_type": "code",
      "metadata": {
        "id": "sOqGgj65T9mT",
        "colab_type": "code",
        "colab": {
          "base_uri": "https://localhost:8080/",
          "height": 70
        },
        "outputId": "293a4d6d-64ce-443d-997e-e1c1a3a6d9ec"
      },
      "source": [
        "y2 = sg.convolve(I, k, 'same')\n",
        "y2"
      ],
      "execution_count": 20,
      "outputs": [
        {
          "output_type": "execute_result",
          "data": {
            "text/plain": [
              "array([[-2,  1,  2],\n",
              "       [-6,  8,  6],\n",
              "       [-9, 12,  5]])"
            ]
          },
          "metadata": {
            "tags": []
          },
          "execution_count": 20
        }
      ]
    },
    {
      "cell_type": "code",
      "metadata": {
        "id": "g4sIkACvUsw9",
        "colab_type": "code",
        "colab": {
          "base_uri": "https://localhost:8080/",
          "height": 70
        },
        "outputId": "399f5621-7fc1-47d2-f69e-c22a40b9a04c"
      },
      "source": [
        "y3 = sg.convolve(I, k, 'valid')\n",
        "y3"
      ],
      "execution_count": 21,
      "outputs": [
        {
          "output_type": "execute_result",
          "data": {
            "text/plain": [
              "array([[ 1,  2],\n",
              "       [ 8,  6],\n",
              "       [12,  5]])"
            ]
          },
          "metadata": {
            "tags": []
          },
          "execution_count": 21
        }
      ]
    },
    {
      "cell_type": "code",
      "metadata": {
        "id": "nMg3Ms1zVEr_",
        "colab_type": "code",
        "colab": {
          "base_uri": "https://localhost:8080/",
          "height": 212
        },
        "outputId": "a92904a9-2413-4f1a-b206-94d75f5ebe71"
      },
      "source": [
        "I= [[255,   7,  3],\n",
        "    [212, 240,  4],\n",
        "    [218, 216, 230],] # Image\n",
        "\n",
        "g= [[-1,  1],\n",
        "    [ 2,  3],]   # Kernel\n",
        "\n",
        "y1 = sg.convolve(I, g, mode='full')\n",
        "print(y1)\n",
        "print()\n",
        "y2 = sg.convolve(I, g, mode='same')\n",
        "print(y2)\n",
        "print()\n",
        "y3 = sg.convolve(I, g, mode = 'valid')\n",
        "print(y3)"
      ],
      "execution_count": 25,
      "outputs": [
        {
          "output_type": "stream",
          "text": [
            "[[-255  248    4    3]\n",
            " [ 298  751  263   13]\n",
            " [ 206 1118  714  242]\n",
            " [ 436 1086 1108  690]]\n",
            "\n",
            "[[-255  248    4]\n",
            " [ 298  751  263]\n",
            " [ 206 1118  714]]\n",
            "\n",
            "[[ 751  263]\n",
            " [1118  714]]\n"
          ],
          "name": "stdout"
        }
      ]
    },
    {
      "cell_type": "markdown",
      "metadata": {
        "id": "XxnQ8_C1Wi01",
        "colab_type": "text"
      },
      "source": [
        "### Coding with TensorFlow"
      ]
    },
    {
      "cell_type": "markdown",
      "metadata": {
        "id": "NHdmcODeW1mo",
        "colab_type": "text"
      },
      "source": [
        "The output size without zero padding 'VALID' mode:\n",
        "\n",
        "* input size - kernel dimension + 1"
      ]
    },
    {
      "cell_type": "code",
      "metadata": {
        "id": "GT1pobPZWEuc",
        "colab_type": "code",
        "colab": {
          "base_uri": "https://localhost:8080/",
          "height": 63
        },
        "outputId": "06656c8a-a3f2-4700-96f8-c1bf458d085d"
      },
      "source": [
        "import tensorflow as tf"
      ],
      "execution_count": 26,
      "outputs": [
        {
          "output_type": "display_data",
          "data": {
            "text/html": [
              "<p style=\"color: red;\">\n",
              "The default version of TensorFlow in Colab will soon switch to TensorFlow 2.x.<br>\n",
              "We recommend you <a href=\"https://www.tensorflow.org/guide/migrate\" target=\"_blank\">upgrade</a> now \n",
              "or ensure your notebook will continue to use TensorFlow 1.x via the <code>%tensorflow_version 1.x</code> magic:\n",
              "<a href=\"https://colab.research.google.com/notebooks/tensorflow_version.ipynb\" target=\"_blank\">more info</a>.</p>\n"
            ],
            "text/plain": [
              "<IPython.core.display.HTML object>"
            ]
          },
          "metadata": {
            "tags": []
          }
        }
      ]
    },
    {
      "cell_type": "markdown",
      "metadata": {
        "id": "0mTWFoRPXhuD",
        "colab_type": "text"
      },
      "source": [
        "Suppose that you have two tensors:\n",
        "\n",
        "* 3x3 filter (4D tensor = [3,3,1,1] = [width, height, channels, number of filters])\n",
        "* 10x10 image (4D tensor = [1,10,10,1] = [batch size, width, height, number of channels]"
      ]
    },
    {
      "cell_type": "code",
      "metadata": {
        "id": "oMx65GsmXWdX",
        "colab_type": "code",
        "colab": {}
      },
      "source": [
        "input = tf.Variable(tf.random_normal([1,10,10,1]))"
      ],
      "execution_count": 0,
      "outputs": []
    },
    {
      "cell_type": "code",
      "metadata": {
        "id": "5PMn0Zk1XxQR",
        "colab_type": "code",
        "colab": {}
      },
      "source": [
        "filter = tf.Variable(tf.random_normal([3,3,1,1]))"
      ],
      "execution_count": 0,
      "outputs": []
    },
    {
      "cell_type": "code",
      "metadata": {
        "id": "SIG1OyH8XyXm",
        "colab_type": "code",
        "colab": {}
      },
      "source": [
        "op = tf.nn.conv2d(input, filter , strides =[1,1,1,1], padding='VALID')\n",
        "op2 = tf.nn.conv2d(input, filter, strides=[1,1,1,1], padding='SAME')"
      ],
      "execution_count": 0,
      "outputs": []
    },
    {
      "cell_type": "code",
      "metadata": {
        "id": "ADdgS8Q-ZxLZ",
        "colab_type": "code",
        "colab": {
          "base_uri": "https://localhost:8080/",
          "height": 1000
        },
        "outputId": "1cc1dcba-55c4-451d-9a2c-b8e51bf2b83a"
      },
      "source": [
        "init = tf.global_variables_initializer()\n",
        "with tf.Session() as sess:\n",
        "  sess.run(init)\n",
        "\n",
        "  print(input.eval())\n",
        "  print('\\n')\n",
        "  print(filter.eval())\n",
        "  print('\\n')\n",
        "  print(sess.run(op))\n",
        "  print('\\n')\n",
        "  print(sess.run(op2))"
      ],
      "execution_count": 31,
      "outputs": [
        {
          "output_type": "stream",
          "text": [
            "[[[[ 0.24288796]\n",
            "   [-1.1904343 ]\n",
            "   [-1.2991123 ]\n",
            "   [-0.17651491]\n",
            "   [ 1.2897655 ]\n",
            "   [-0.38934058]\n",
            "   [-1.6995641 ]\n",
            "   [-0.84308285]\n",
            "   [ 0.5754869 ]\n",
            "   [-0.33533153]]\n",
            "\n",
            "  [[-0.47177422]\n",
            "   [-0.8591989 ]\n",
            "   [ 0.06257936]\n",
            "   [-0.53170717]\n",
            "   [ 0.20754379]\n",
            "   [-0.5724353 ]\n",
            "   [-0.3309563 ]\n",
            "   [-0.917383  ]\n",
            "   [ 1.3625333 ]\n",
            "   [ 0.20768575]]\n",
            "\n",
            "  [[ 0.7184819 ]\n",
            "   [-0.7505    ]\n",
            "   [-0.11589186]\n",
            "   [-2.2060738 ]\n",
            "   [ 1.882827  ]\n",
            "   [ 2.389995  ]\n",
            "   [-0.88361835]\n",
            "   [ 0.6666137 ]\n",
            "   [-0.20240413]\n",
            "   [ 0.39616853]]\n",
            "\n",
            "  [[ 1.5364176 ]\n",
            "   [-0.25411245]\n",
            "   [ 0.17745541]\n",
            "   [-0.5729985 ]\n",
            "   [-1.6137792 ]\n",
            "   [-0.2603571 ]\n",
            "   [ 1.4064711 ]\n",
            "   [ 2.4799223 ]\n",
            "   [ 1.0263125 ]\n",
            "   [-0.8117784 ]]\n",
            "\n",
            "  [[ 0.6541823 ]\n",
            "   [ 0.68655807]\n",
            "   [ 0.76741415]\n",
            "   [-2.961327  ]\n",
            "   [-0.06303049]\n",
            "   [-0.5617649 ]\n",
            "   [ 0.8706512 ]\n",
            "   [ 1.3880113 ]\n",
            "   [-0.5006021 ]\n",
            "   [-0.06440057]]\n",
            "\n",
            "  [[-0.25702056]\n",
            "   [ 0.09459096]\n",
            "   [ 0.534621  ]\n",
            "   [-0.7391786 ]\n",
            "   [-0.59508127]\n",
            "   [-0.23842175]\n",
            "   [ 0.8545358 ]\n",
            "   [-0.00878896]\n",
            "   [-0.9837099 ]\n",
            "   [-1.4335535 ]]\n",
            "\n",
            "  [[-2.185281  ]\n",
            "   [-0.8453764 ]\n",
            "   [-1.4033867 ]\n",
            "   [-0.59666306]\n",
            "   [-1.8457005 ]\n",
            "   [-0.637913  ]\n",
            "   [-0.9506095 ]\n",
            "   [-0.42487562]\n",
            "   [-0.0870583 ]\n",
            "   [ 0.19981046]]\n",
            "\n",
            "  [[ 1.0308408 ]\n",
            "   [-1.869664  ]\n",
            "   [-0.6277498 ]\n",
            "   [ 0.3637261 ]\n",
            "   [ 0.74715567]\n",
            "   [-0.09696033]\n",
            "   [ 0.3069143 ]\n",
            "   [ 0.21514118]\n",
            "   [-0.85770595]\n",
            "   [ 1.0587889 ]]\n",
            "\n",
            "  [[ 0.90971303]\n",
            "   [ 1.3200859 ]\n",
            "   [-1.2783494 ]\n",
            "   [-0.76510596]\n",
            "   [-1.3237059 ]\n",
            "   [ 0.765028  ]\n",
            "   [ 1.7685708 ]\n",
            "   [-0.54029536]\n",
            "   [ 0.4051423 ]\n",
            "   [-0.23142534]]\n",
            "\n",
            "  [[ 0.52994955]\n",
            "   [ 0.94577676]\n",
            "   [-1.0886917 ]\n",
            "   [ 0.28450713]\n",
            "   [-1.06697   ]\n",
            "   [ 0.3494943 ]\n",
            "   [-0.07461449]\n",
            "   [-0.22524318]\n",
            "   [ 0.14708865]\n",
            "   [ 0.7985377 ]]]]\n",
            "\n",
            "\n",
            "[[[[-0.4047641 ]]\n",
            "\n",
            "  [[-0.5627873 ]]\n",
            "\n",
            "  [[-1.8068106 ]]]\n",
            "\n",
            "\n",
            " [[[-1.4204051 ]]\n",
            "\n",
            "  [[-0.18051846]]\n",
            "\n",
            "  [[-0.3798801 ]]]\n",
            "\n",
            "\n",
            " [[[ 0.89459133]]\n",
            "\n",
            "  [[ 0.49196133]]\n",
            "\n",
            "  [[-0.22044583]]]]\n",
            "\n",
            "\n",
            "[[[[ 4.019417  ]\n",
            "   [ 2.7009113 ]\n",
            "   [-3.3809748 ]\n",
            "   [-0.589842  ]\n",
            "   [ 5.757054  ]\n",
            "   [ 5.415115  ]\n",
            "   [-0.17720972]\n",
            "   [ 2.010889  ]]\n",
            "\n",
            "  [[ 0.93073624]\n",
            "   [ 3.1845157 ]\n",
            "   [-0.02087441]\n",
            "   [ 1.7692956 ]\n",
            "   [-3.8158274 ]\n",
            "   [-1.5006609 ]\n",
            "   [ 1.6520567 ]\n",
            "   [ 1.0708143 ]]\n",
            "\n",
            "  [[-1.1091119 ]\n",
            "   [ 6.546074  ]\n",
            "   [-2.4054735 ]\n",
            "   [-5.837196  ]\n",
            "   [ 0.76961595]\n",
            "   [-2.8808992 ]\n",
            "   [-0.9150246 ]\n",
            "   [-3.2614734 ]]\n",
            "\n",
            "  [[-2.445418  ]\n",
            "   [ 1.5600939 ]\n",
            "   [ 2.880725  ]\n",
            "   [ 5.1401644 ]\n",
            "   [-2.7193344 ]\n",
            "   [-4.8443775 ]\n",
            "   [-4.1393895 ]\n",
            "   [-2.147144  ]]\n",
            "\n",
            "  [[-3.9542968 ]\n",
            "   [ 3.3755589 ]\n",
            "   [-0.07213942]\n",
            "   [ 2.1958845 ]\n",
            "   [-2.4231784 ]\n",
            "   [-3.5274203 ]\n",
            "   [-2.1078167 ]\n",
            "   [ 0.10394835]]\n",
            "\n",
            "  [[ 3.015312  ]\n",
            "   [ 0.61556983]\n",
            "   [ 3.5296876 ]\n",
            "   [ 3.2022293 ]\n",
            "   [ 2.4820194 ]\n",
            "   [ 0.88738495]\n",
            "   [ 3.4659402 ]\n",
            "   [ 3.2277431 ]]\n",
            "\n",
            "  [[ 4.752771  ]\n",
            "   [ 5.561575  ]\n",
            "   [ 3.5526392 ]\n",
            "   [ 0.3138354 ]\n",
            "   [ 0.465617  ]\n",
            "   [ 3.2350183 ]\n",
            "   [ 1.8592625 ]\n",
            "   [-0.9260312 ]]\n",
            "\n",
            "  [[ 1.9037306 ]\n",
            "   [-0.6529932 ]\n",
            "   [ 0.55740225]\n",
            "   [ 0.29513597]\n",
            "   [-0.49825352]\n",
            "   [-1.3972616 ]\n",
            "   [-1.474039  ]\n",
            "   [-1.040363  ]]]]\n",
            "\n",
            "\n",
            "[[[[ 0.36568868]\n",
            "   [-0.49513012]\n",
            "   [ 1.3718346 ]\n",
            "   [ 1.1358252 ]\n",
            "   [-0.0815672 ]\n",
            "   [-1.1390669 ]\n",
            "   [ 0.7074143 ]\n",
            "   [ 1.2998935 ]\n",
            "   [ 1.0248663 ]\n",
            "   [ 0.5641929 ]]\n",
            "\n",
            "  [[ 2.9446619 ]\n",
            "   [ 4.019417  ]\n",
            "   [ 2.7009113 ]\n",
            "   [-3.3809748 ]\n",
            "   [-0.589842  ]\n",
            "   [ 5.757054  ]\n",
            "   [ 5.415115  ]\n",
            "   [-0.17720972]\n",
            "   [ 2.010889  ]\n",
            "   [-2.003226  ]]\n",
            "\n",
            "  [[ 2.785195  ]\n",
            "   [ 0.93073624]\n",
            "   [ 3.1845157 ]\n",
            "   [-0.02087441]\n",
            "   [ 1.7692956 ]\n",
            "   [-3.8158274 ]\n",
            "   [-1.5006609 ]\n",
            "   [ 1.6520567 ]\n",
            "   [ 1.0708143 ]\n",
            "   [ 0.0663593 ]]\n",
            "\n",
            "  [[ 0.941323  ]\n",
            "   [-1.1091119 ]\n",
            "   [ 6.546074  ]\n",
            "   [-2.4054735 ]\n",
            "   [-5.837196  ]\n",
            "   [ 0.76961595]\n",
            "   [-2.8808992 ]\n",
            "   [-0.9150246 ]\n",
            "   [-3.2614734 ]\n",
            "   [-1.9317882 ]]\n",
            "\n",
            "  [[-0.9317413 ]\n",
            "   [-2.445418  ]\n",
            "   [ 1.5600939 ]\n",
            "   [ 2.880725  ]\n",
            "   [ 5.1401644 ]\n",
            "   [-2.7193344 ]\n",
            "   [-4.8443775 ]\n",
            "   [-4.1393895 ]\n",
            "   [-2.147144  ]\n",
            "   [-0.8211437 ]]\n",
            "\n",
            "  [[-2.4868963 ]\n",
            "   [-3.9542968 ]\n",
            "   [ 3.3755589 ]\n",
            "   [-0.07213942]\n",
            "   [ 2.1958845 ]\n",
            "   [-2.4231784 ]\n",
            "   [-3.5274203 ]\n",
            "   [-2.1078167 ]\n",
            "   [ 0.10394835]\n",
            "   [ 1.9153365 ]]\n",
            "\n",
            "  [[ 1.6086586 ]\n",
            "   [ 3.015312  ]\n",
            "   [ 0.61556983]\n",
            "   [ 3.5296876 ]\n",
            "   [ 3.2022293 ]\n",
            "   [ 2.4820194 ]\n",
            "   [ 0.88738495]\n",
            "   [ 3.4659402 ]\n",
            "   [ 3.2277431 ]\n",
            "   [ 1.0461315 ]]\n",
            "\n",
            "  [[ 3.437982  ]\n",
            "   [ 4.752771  ]\n",
            "   [ 5.561575  ]\n",
            "   [ 3.5526392 ]\n",
            "   [ 0.3138354 ]\n",
            "   [ 0.465617  ]\n",
            "   [ 3.2350183 ]\n",
            "   [ 1.8592625 ]\n",
            "   [-0.9260312 ]\n",
            "   [ 1.1985309 ]]\n",
            "\n",
            "  [[ 2.1845124 ]\n",
            "   [ 1.9037306 ]\n",
            "   [-0.6529932 ]\n",
            "   [ 0.55740225]\n",
            "   [ 0.29513597]\n",
            "   [-0.49825352]\n",
            "   [-1.3972616 ]\n",
            "   [-1.474039  ]\n",
            "   [-1.040363  ]\n",
            "   [-0.25796017]]\n",
            "\n",
            "  [[-3.3520677 ]\n",
            "   [ 0.6886877 ]\n",
            "   [ 0.3125812 ]\n",
            "   [ 5.240053  ]\n",
            "   [-0.671882  ]\n",
            "   [-1.609448  ]\n",
            "   [-0.7261625 ]\n",
            "   [-1.0530307 ]\n",
            "   [ 0.39886078]\n",
            "   [-0.38682008]]]]\n"
          ],
          "name": "stdout"
        }
      ]
    },
    {
      "cell_type": "code",
      "metadata": {
        "id": "qDYU3Ge2aYtl",
        "colab_type": "code",
        "colab": {}
      },
      "source": [
        ""
      ],
      "execution_count": 0,
      "outputs": []
    }
  ]
}