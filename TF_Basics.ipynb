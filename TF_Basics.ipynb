{
  "nbformat": 4,
  "nbformat_minor": 0,
  "metadata": {
    "colab": {
      "name": "TF Basics",
      "provenance": [],
      "toc_visible": true,
      "authorship_tag": "ABX9TyO2AfbRaimffIgpRNGRAz3O"
    },
    "kernelspec": {
      "name": "python3",
      "display_name": "Python 3"
    }
  },
  "cells": [
    {
      "cell_type": "code",
      "metadata": {
        "id": "LGovdqRKZZY8",
        "colab_type": "code",
        "colab": {}
      },
      "source": [
        "import tensorflow as tf"
      ],
      "execution_count": 0,
      "outputs": []
    },
    {
      "cell_type": "code",
      "metadata": {
        "id": "gfSGOMJlZjlw",
        "colab_type": "code",
        "colab": {
          "base_uri": "https://localhost:8080/",
          "height": 34
        },
        "outputId": "a3566eff-41f5-416d-a4fd-3ba6281fe0b5"
      },
      "source": [
        "print(tf.__version__)"
      ],
      "execution_count": 3,
      "outputs": [
        {
          "output_type": "stream",
          "text": [
            "1.15.0\n"
          ],
          "name": "stdout"
        }
      ]
    },
    {
      "cell_type": "markdown",
      "metadata": {
        "id": "ihxUES1fZlxE",
        "colab_type": "text"
      },
      "source": [
        "# We are using 1.x version of Tensorflow"
      ]
    },
    {
      "cell_type": "markdown",
      "metadata": {
        "id": "OJM9Z2-YbYmp",
        "colab_type": "text"
      },
      "source": [
        "Building graph to create a variable"
      ]
    },
    {
      "cell_type": "code",
      "metadata": {
        "id": "yayveKZ3Ztsd",
        "colab_type": "code",
        "colab": {}
      },
      "source": [
        "graph = tf.Graph()"
      ],
      "execution_count": 0,
      "outputs": []
    },
    {
      "cell_type": "code",
      "metadata": {
        "id": "pPF19N2XZ-_3",
        "colab_type": "code",
        "colab": {}
      },
      "source": [
        "with graph.as_default():\n",
        "  a = tf.constant([2], name = 'constant_a')\n",
        "  b = tf.constant([3], name ='constant_b')"
      ],
      "execution_count": 0,
      "outputs": []
    },
    {
      "cell_type": "code",
      "metadata": {
        "id": "2CVvdw8RaN7Z",
        "colab_type": "code",
        "colab": {
          "base_uri": "https://localhost:8080/",
          "height": 34
        },
        "outputId": "078ea8a4-3209-4ba2-ff64-15301cd47958"
      },
      "source": [
        "a"
      ],
      "execution_count": 8,
      "outputs": [
        {
          "output_type": "execute_result",
          "data": {
            "text/plain": [
              "<tf.Tensor 'constant_a_1:0' shape=(1,) dtype=int32>"
            ]
          },
          "metadata": {
            "tags": []
          },
          "execution_count": 8
        }
      ]
    },
    {
      "cell_type": "markdown",
      "metadata": {
        "id": "wCaKsN-nbRFj",
        "colab_type": "text"
      },
      "source": [
        "building Session to get the output"
      ]
    },
    {
      "cell_type": "code",
      "metadata": {
        "id": "acJcxjgCaZ2p",
        "colab_type": "code",
        "colab": {
          "base_uri": "https://localhost:8080/",
          "height": 34
        },
        "outputId": "da55fe1a-872f-4491-f1f1-f3114b34e20c"
      },
      "source": [
        "sess = tf.Session(graph = graph)\n",
        "result = sess.run(a)\n",
        "print(result)"
      ],
      "execution_count": 11,
      "outputs": [
        {
          "output_type": "stream",
          "text": [
            "[2]\n"
          ],
          "name": "stdout"
        }
      ]
    },
    {
      "cell_type": "code",
      "metadata": {
        "id": "WOjTdXB8avcK",
        "colab_type": "code",
        "colab": {}
      },
      "source": [
        "sess.close()"
      ],
      "execution_count": 0,
      "outputs": []
    },
    {
      "cell_type": "markdown",
      "metadata": {
        "id": "HI7BDJdnbm16",
        "colab_type": "text"
      },
      "source": [
        "This way of initializing the session is not a good practice, as it consumes more of out time."
      ]
    },
    {
      "cell_type": "code",
      "metadata": {
        "id": "UiWtAZ-zcW55",
        "colab_type": "code",
        "colab": {}
      },
      "source": [
        "graph1 = tf.Graph()"
      ],
      "execution_count": 0,
      "outputs": []
    },
    {
      "cell_type": "code",
      "metadata": {
        "id": "BKvQiAg8cLzm",
        "colab_type": "code",
        "colab": {}
      },
      "source": [
        "with graph1.as_default():\n",
        "  a = tf.constant([3], name='a')\n",
        "  b = tf.constant([4], name='b')\n",
        "  c = a + b\n"
      ],
      "execution_count": 0,
      "outputs": []
    },
    {
      "cell_type": "code",
      "metadata": {
        "id": "OAeuIIScbLFA",
        "colab_type": "code",
        "colab": {
          "base_uri": "https://localhost:8080/",
          "height": 34
        },
        "outputId": "b5c53638-a45e-4536-90cb-d37d5162ec81"
      },
      "source": [
        "with tf.Session(graph = graph1) as sess :\n",
        "  result = sess.run(c)\n",
        "  print(result)"
      ],
      "execution_count": 18,
      "outputs": [
        {
          "output_type": "stream",
          "text": [
            "[7]\n"
          ],
          "name": "stdout"
        }
      ]
    },
    {
      "cell_type": "code",
      "metadata": {
        "id": "DRCsd35Fc1S8",
        "colab_type": "code",
        "colab": {}
      },
      "source": [
        "with graph1.as_default():\n",
        "  a = tf.constant(1)\n",
        "  b = tf.constant([2])\n",
        "  c = tf.constant([2,3,4])\n",
        "  d = tf.constant([[1,2,3,4],[2,3,4,5],[5,6,6,7]])\n",
        "  e = tf.constant([ [[1,2,3],[4,5,6],[7,8,9]],\n",
        "                   [[11,22,33],[44,55,66],[77,88,99]],\n",
        "                   [[111,222,333],[444,555,666],[777,888,999]]])"
      ],
      "execution_count": 0,
      "outputs": []
    },
    {
      "cell_type": "markdown",
      "metadata": {
        "id": "L3MN_9DLeF72",
        "colab_type": "text"
      },
      "source": [
        "Now build the session to run the graph"
      ]
    },
    {
      "cell_type": "code",
      "metadata": {
        "id": "isRQB9PEeDTO",
        "colab_type": "code",
        "colab": {
          "base_uri": "https://localhost:8080/",
          "height": 323
        },
        "outputId": "e3e40508-c20d-4bc2-e07b-1cd7f86a8b72"
      },
      "source": [
        "with tf.Session(graph = graph1) as sess:\n",
        "  result = sess.run(a)\n",
        "  print(result)\n",
        "  b = sess.run(b)\n",
        "  print(b)\n",
        "  c = sess.run(c)\n",
        "  print(c)\n",
        "  d = sess.run(d)\n",
        "  print(d)\n",
        "  e = sess.run(e)\n",
        "  print(\"\")\n",
        "  print(e)"
      ],
      "execution_count": 27,
      "outputs": [
        {
          "output_type": "stream",
          "text": [
            "1\n",
            "[2]\n",
            "[2 3 4]\n",
            "[[1 2 3 4]\n",
            " [2 3 4 5]\n",
            " [5 6 6 7]]\n",
            "\n",
            "[[[  1   2   3]\n",
            "  [  4   5   6]\n",
            "  [  7   8   9]]\n",
            "\n",
            " [[ 11  22  33]\n",
            "  [ 44  55  66]\n",
            "  [ 77  88  99]]\n",
            "\n",
            " [[111 222 333]\n",
            "  [444 555 666]\n",
            "  [777 888 999]]]\n"
          ],
          "name": "stdout"
        }
      ]
    },
    {
      "cell_type": "markdown",
      "metadata": {
        "id": "7rT8KaNXfnws",
        "colab_type": "text"
      },
      "source": [
        "Defining a variable"
      ]
    },
    {
      "cell_type": "code",
      "metadata": {
        "id": "_U2EWjHHezhS",
        "colab_type": "code",
        "colab": {}
      },
      "source": [
        "v = tf.Variable(0)"
      ],
      "execution_count": 0,
      "outputs": []
    },
    {
      "cell_type": "markdown",
      "metadata": {
        "id": "eAP12vachgh0",
        "colab_type": "text"
      },
      "source": [
        "Variables must be initialized by running an initialization operation after having launched the graph. We first have to add the initialization operation to the graph:"
      ]
    },
    {
      "cell_type": "code",
      "metadata": {
        "id": "BU6Jqs2phfW_",
        "colab_type": "code",
        "colab": {}
      },
      "source": [
        "init_op = tf.global_variables_initializer()"
      ],
      "execution_count": 0,
      "outputs": []
    },
    {
      "cell_type": "code",
      "metadata": {
        "id": "dyJ6xdo5hrCH",
        "colab_type": "code",
        "colab": {}
      },
      "source": [
        "update = tf.assign(v, v+1)"
      ],
      "execution_count": 0,
      "outputs": []
    },
    {
      "cell_type": "code",
      "metadata": {
        "id": "P3Bjj8SXhyGp",
        "colab_type": "code",
        "colab": {
          "base_uri": "https://localhost:8080/",
          "height": 85
        },
        "outputId": "603d35ab-a520-48d6-8064-7a5a659b35f1"
      },
      "source": [
        "with tf.Session() as sess:\n",
        "  sess.run(init_op)\n",
        "  print(sess.run(v))\n",
        "  for _ in range(3):\n",
        "    sess.run(update)\n",
        "    print(sess.run(v))"
      ],
      "execution_count": 31,
      "outputs": [
        {
          "output_type": "stream",
          "text": [
            "0\n",
            "1\n",
            "2\n",
            "3\n"
          ],
          "name": "stdout"
        }
      ]
    },
    {
      "cell_type": "markdown",
      "metadata": {
        "id": "nCBCRehpiV7d",
        "colab_type": "text"
      },
      "source": [
        "Placeholders"
      ]
    },
    {
      "cell_type": "code",
      "metadata": {
        "id": "ElavL4JSiMHU",
        "colab_type": "code",
        "colab": {
          "base_uri": "https://localhost:8080/",
          "height": 34
        },
        "outputId": "24cb8302-17ec-4139-e9ad-6e13ab58bea4"
      },
      "source": [
        "a = tf.placeholder(tf.float32)\n",
        "b = a *a\n",
        "with tf.Session() as sess:\n",
        "  r = sess.run(b, feed_dict={a : 2})\n",
        "  print(r)"
      ],
      "execution_count": 35,
      "outputs": [
        {
          "output_type": "stream",
          "text": [
            "4.0\n"
          ],
          "name": "stdout"
        }
      ]
    },
    {
      "cell_type": "markdown",
      "metadata": {
        "id": "HAzD3vTTi3qk",
        "colab_type": "text"
      },
      "source": [
        "Operations in TensorFlow"
      ]
    },
    {
      "cell_type": "code",
      "metadata": {
        "id": "qF52WrAciwrl",
        "colab_type": "code",
        "colab": {}
      },
      "source": [
        "tf.matmul()\n",
        "tf.add()\n",
        "tf.constant\n",
        "tf.nn.sigmoid"
      ],
      "execution_count": 0,
      "outputs": []
    }
  ]
}