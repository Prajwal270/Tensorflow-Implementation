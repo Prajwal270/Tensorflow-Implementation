{
  "nbformat": 4,
  "nbformat_minor": 0,
  "metadata": {
    "colab": {
      "name": "Logistic_regression_2.ipynb",
      "provenance": [],
      "authorship_tag": "ABX9TyMbNQ7hHfQxcJkYWk/byA0I"
    },
    "kernelspec": {
      "name": "python3",
      "display_name": "Python 3"
    }
  },
  "cells": [
    {
      "cell_type": "code",
      "metadata": {
        "id": "s1mJBgMTwGR9",
        "colab_type": "code",
        "colab": {}
      },
      "source": [
        "from sklearn.datasets import load_iris"
      ],
      "execution_count": 0,
      "outputs": []
    },
    {
      "cell_type": "code",
      "metadata": {
        "id": "713DD00ywa74",
        "colab_type": "code",
        "colab": {}
      },
      "source": [
        "import tensorflow as tf\n",
        "import pandas as pd\n",
        "import numpy as np\n",
        "from sklearn.model_selection import train_test_split\n"
      ],
      "execution_count": 0,
      "outputs": []
    },
    {
      "cell_type": "code",
      "metadata": {
        "id": "ZuSVB6zRwPuT",
        "colab_type": "code",
        "colab": {}
      },
      "source": [
        "iris = load_iris()"
      ],
      "execution_count": 0,
      "outputs": []
    },
    {
      "cell_type": "code",
      "metadata": {
        "id": "TLojHpF8wiLX",
        "colab_type": "code",
        "colab": {}
      },
      "source": [
        "iris = load_iris()\n",
        "iris_X, iris_y = iris.data[:-1,:], iris.target[:-1]\n",
        "iris_y= pd.get_dummies(iris_y).values\n",
        "trainX, testX, trainY, testY = train_test_split(iris_X, iris_y, test_size=0.33, random_state=42)"
      ],
      "execution_count": 0,
      "outputs": []
    },
    {
      "cell_type": "code",
      "metadata": {
        "id": "UJY_bD1z1w3u",
        "colab_type": "code",
        "colab": {
          "base_uri": "https://localhost:8080/",
          "height": 52
        },
        "outputId": "f019ce9d-823c-4ee8-82cc-ea654ce912d2"
      },
      "source": [
        "print(trainX.shape)\n",
        "print(trainY.shape)"
      ],
      "execution_count": 29,
      "outputs": [
        {
          "output_type": "stream",
          "text": [
            "(99, 4)\n",
            "(99, 3)\n"
          ],
          "name": "stdout"
        }
      ]
    },
    {
      "cell_type": "code",
      "metadata": {
        "id": "uzrqFoFd1J36",
        "colab_type": "code",
        "colab": {
          "base_uri": "https://localhost:8080/",
          "height": 34
        },
        "outputId": "31e8dfee-3653-4d63-c34e-47e9f4be9ea6"
      },
      "source": [
        "trainX.dtype"
      ],
      "execution_count": 25,
      "outputs": [
        {
          "output_type": "execute_result",
          "data": {
            "text/plain": [
              "dtype('float64')"
            ]
          },
          "metadata": {
            "tags": []
          },
          "execution_count": 25
        }
      ]
    },
    {
      "cell_type": "code",
      "metadata": {
        "id": "EkVxqSfc1Nzi",
        "colab_type": "code",
        "colab": {
          "base_uri": "https://localhost:8080/",
          "height": 34
        },
        "outputId": "97078d50-3500-4de1-9f44-be5f3bf19eb7"
      },
      "source": [
        "trainY.dtype"
      ],
      "execution_count": 26,
      "outputs": [
        {
          "output_type": "execute_result",
          "data": {
            "text/plain": [
              "dtype('uint8')"
            ]
          },
          "metadata": {
            "tags": []
          },
          "execution_count": 26
        }
      ]
    },
    {
      "cell_type": "code",
      "metadata": {
        "id": "7NqRu2SL1SaN",
        "colab_type": "code",
        "colab": {}
      },
      "source": [
        ""
      ],
      "execution_count": 0,
      "outputs": []
    },
    {
      "cell_type": "code",
      "metadata": {
        "id": "rJoaeAlZwpUk",
        "colab_type": "code",
        "colab": {}
      },
      "source": [
        "numFeatures = trainX.shape[1]\n",
        "numLabels = trainY.shape[1]"
      ],
      "execution_count": 0,
      "outputs": []
    },
    {
      "cell_type": "code",
      "metadata": {
        "id": "4s3zqmAew_gx",
        "colab_type": "code",
        "colab": {
          "base_uri": "https://localhost:8080/",
          "height": 52
        },
        "outputId": "e6c18992-53c1-4164-fe67-fdf02a9c5632"
      },
      "source": [
        "print(numFeatures)\n",
        "print(numLabels)"
      ],
      "execution_count": 12,
      "outputs": [
        {
          "output_type": "stream",
          "text": [
            "4\n",
            "3\n"
          ],
          "name": "stdout"
        }
      ]
    },
    {
      "cell_type": "code",
      "metadata": {
        "id": "k6RiccubxPlx",
        "colab_type": "code",
        "colab": {}
      },
      "source": [
        "# 'None' means TensorFlow shouldn't expect a fixed number in that dimension\n",
        "X = tf.placeholder(tf.float32, [None, numFeatures]) # Iris has 4 features, so X is a tensor to hold our data.\n",
        "yGold = tf.placeholder(tf.float32, [None, numLabels]) # This will be our correct answers matrix for 3 classes"
      ],
      "execution_count": 0,
      "outputs": []
    },
    {
      "cell_type": "code",
      "metadata": {
        "id": "aMujpeLN4XKh",
        "colab_type": "code",
        "colab": {
          "base_uri": "https://localhost:8080/",
          "height": 34
        },
        "outputId": "df5e2246-4664-43b3-9eb0-b134990c1b9c"
      },
      "source": [
        "X"
      ],
      "execution_count": 30,
      "outputs": [
        {
          "output_type": "execute_result",
          "data": {
            "text/plain": [
              "<tf.Tensor 'Placeholder:0' shape=(?, 4) dtype=float32>"
            ]
          },
          "metadata": {
            "tags": []
          },
          "execution_count": 30
        }
      ]
    },
    {
      "cell_type": "code",
      "metadata": {
        "id": "Nf6kypA34YqW",
        "colab_type": "code",
        "colab": {
          "base_uri": "https://localhost:8080/",
          "height": 34
        },
        "outputId": "1c3e25d8-9132-4e0c-ec2a-bc334c7a7adc"
      },
      "source": [
        "X.shape"
      ],
      "execution_count": 31,
      "outputs": [
        {
          "output_type": "execute_result",
          "data": {
            "text/plain": [
              "TensorShape([Dimension(None), Dimension(4)])"
            ]
          },
          "metadata": {
            "tags": []
          },
          "execution_count": 31
        }
      ]
    },
    {
      "cell_type": "code",
      "metadata": {
        "id": "fxxErooa4aN_",
        "colab_type": "code",
        "colab": {}
      },
      "source": [
        ""
      ],
      "execution_count": 0,
      "outputs": []
    },
    {
      "cell_type": "code",
      "metadata": {
        "id": "pMLTyXpMxU0b",
        "colab_type": "code",
        "colab": {}
      },
      "source": [
        "#Randomly sample from a normal distribution with standard deviation .01\n",
        "\n",
        "weights = tf.Variable(tf.random_normal([numFeatures,numLabels],\n",
        "                                       mean=0,\n",
        "                                       stddev=0.01,\n",
        "                                       name=\"weights\"))\n",
        "\n",
        "bias = tf.Variable(tf.random_normal([1,numLabels],\n",
        "                                    mean=0,\n",
        "                                    stddev=0.01,\n",
        "                                    name=\"bias\"))"
      ],
      "execution_count": 0,
      "outputs": []
    },
    {
      "cell_type": "code",
      "metadata": {
        "id": "rfPD2Lrn1W0K",
        "colab_type": "code",
        "colab": {
          "base_uri": "https://localhost:8080/",
          "height": 34
        },
        "outputId": "b213ca8a-8760-45d0-d489-69c9d74f0ff0"
      },
      "source": [
        "weights.dtype"
      ],
      "execution_count": 27,
      "outputs": [
        {
          "output_type": "execute_result",
          "data": {
            "text/plain": [
              "tf.float32_ref"
            ]
          },
          "metadata": {
            "tags": []
          },
          "execution_count": 27
        }
      ]
    },
    {
      "cell_type": "code",
      "metadata": {
        "id": "Le_nR67d1Yb_",
        "colab_type": "code",
        "colab": {
          "base_uri": "https://localhost:8080/",
          "height": 34
        },
        "outputId": "97b65030-3f07-4eb1-edc1-f96abac67d1d"
      },
      "source": [
        "bias.dtype"
      ],
      "execution_count": 28,
      "outputs": [
        {
          "output_type": "execute_result",
          "data": {
            "text/plain": [
              "tf.float32_ref"
            ]
          },
          "metadata": {
            "tags": []
          },
          "execution_count": 28
        }
      ]
    },
    {
      "cell_type": "code",
      "metadata": {
        "id": "XFrp_ViN1a2N",
        "colab_type": "code",
        "colab": {}
      },
      "source": [
        ""
      ],
      "execution_count": 0,
      "outputs": []
    },
    {
      "cell_type": "code",
      "metadata": {
        "id": "4Co2T8WWxbIG",
        "colab_type": "code",
        "colab": {
          "base_uri": "https://localhost:8080/",
          "height": 34
        },
        "outputId": "6055e408-3611-48ea-abf8-0af6b886c706"
      },
      "source": [
        "weights"
      ],
      "execution_count": 15,
      "outputs": [
        {
          "output_type": "execute_result",
          "data": {
            "text/plain": [
              "<tf.Variable 'Variable:0' shape=(4, 3) dtype=float32_ref>"
            ]
          },
          "metadata": {
            "tags": []
          },
          "execution_count": 15
        }
      ]
    },
    {
      "cell_type": "code",
      "metadata": {
        "id": "oGg3_oz3xcRK",
        "colab_type": "code",
        "colab": {
          "base_uri": "https://localhost:8080/",
          "height": 87
        },
        "outputId": "e580021e-7385-42b5-b8dd-85e0e1da72db"
      },
      "source": [
        "s = tf.Session()\n",
        "init = tf.global_variables_initializer()\n",
        "s.run(init)\n",
        "s.run(weights)"
      ],
      "execution_count": 17,
      "outputs": [
        {
          "output_type": "execute_result",
          "data": {
            "text/plain": [
              "array([[-0.00172651, -0.00297478,  0.00280098],\n",
              "       [-0.00653906,  0.00534655, -0.00308367],\n",
              "       [ 0.00196363,  0.00394518, -0.01274727],\n",
              "       [ 0.0130916 ,  0.01458155,  0.00267545]], dtype=float32)"
            ]
          },
          "metadata": {
            "tags": []
          },
          "execution_count": 17
        }
      ]
    },
    {
      "cell_type": "code",
      "metadata": {
        "id": "GWg-6xwoyBYh",
        "colab_type": "code",
        "colab": {}
      },
      "source": [
        "s.close()"
      ],
      "execution_count": 0,
      "outputs": []
    },
    {
      "cell_type": "code",
      "metadata": {
        "id": "RIKcicfvxg26",
        "colab_type": "code",
        "colab": {}
      },
      "source": [
        "# Three-component breakdown of the Logistic Regression equation.\n",
        "# Note that these feed into each other.\n",
        "apply_weights_OP = tf.matmul(X, weights, name=\"apply_weights\")\n",
        "add_bias_OP = tf.add(apply_weights_OP, bias, name=\"add_bias\") \n",
        "activation_OP = tf.nn.sigmoid(add_bias_OP, name=\"activation\")"
      ],
      "execution_count": 0,
      "outputs": []
    },
    {
      "cell_type": "code",
      "metadata": {
        "id": "9PDwn_jXx1qD",
        "colab_type": "code",
        "colab": {}
      },
      "source": [
        "# Number of Epochs in our training\n",
        "numEpochs = 700\n",
        "\n",
        "# Defining our learning rate iterations (decay)\n",
        "learningRate = tf.train.exponential_decay(learning_rate=0.0008,\n",
        "                                          global_step= 1,\n",
        "                                          decay_steps=trainX.shape[0],\n",
        "                                          decay_rate= 0.95,\n",
        "                                          staircase=True)"
      ],
      "execution_count": 0,
      "outputs": []
    },
    {
      "cell_type": "code",
      "metadata": {
        "id": "_T1WOZB35K2H",
        "colab_type": "code",
        "colab": {
          "base_uri": "https://localhost:8080/",
          "height": 34
        },
        "outputId": "83321e84-4e3c-4731-997d-ffd244808969"
      },
      "source": [
        "learningRate"
      ],
      "execution_count": 32,
      "outputs": [
        {
          "output_type": "execute_result",
          "data": {
            "text/plain": [
              "<tf.Tensor 'ExponentialDecay:0' shape=() dtype=float32>"
            ]
          },
          "metadata": {
            "tags": []
          },
          "execution_count": 32
        }
      ]
    },
    {
      "cell_type": "code",
      "metadata": {
        "id": "7htWKags5L-L",
        "colab_type": "code",
        "colab": {
          "base_uri": "https://localhost:8080/",
          "height": 34
        },
        "outputId": "b1c3b063-b7a8-45da-966b-b8257a49b894"
      },
      "source": [
        "r = tf.Session()\n",
        "r.run(learningRate)"
      ],
      "execution_count": 34,
      "outputs": [
        {
          "output_type": "execute_result",
          "data": {
            "text/plain": [
              "0.0008"
            ]
          },
          "metadata": {
            "tags": []
          },
          "execution_count": 34
        }
      ]
    },
    {
      "cell_type": "code",
      "metadata": {
        "id": "aRssOrn-5Sbq",
        "colab_type": "code",
        "colab": {
          "base_uri": "https://localhost:8080/",
          "height": 34
        },
        "outputId": "7e2d62b6-2cb6-4603-b8f2-539285a4e1e2"
      },
      "source": [
        "learningRate.shape"
      ],
      "execution_count": 35,
      "outputs": [
        {
          "output_type": "execute_result",
          "data": {
            "text/plain": [
              "TensorShape([])"
            ]
          },
          "metadata": {
            "tags": []
          },
          "execution_count": 35
        }
      ]
    },
    {
      "cell_type": "code",
      "metadata": {
        "id": "I7t7ytqy5YKU",
        "colab_type": "code",
        "colab": {}
      },
      "source": [
        "r.close()"
      ],
      "execution_count": 0,
      "outputs": []
    },
    {
      "cell_type": "code",
      "metadata": {
        "id": "DdRamYFxx5PA",
        "colab_type": "code",
        "colab": {}
      },
      "source": [
        "#Defining our cost function - Squared Mean Error\n",
        "cost_OP = tf.nn.l2_loss(activation_OP-yGold, name=\"squared_error_cost\")\n",
        "\n",
        "#Defining our Gradient Descent\n",
        "training_OP = tf.train.GradientDescentOptimizer(learningRate).minimize(cost_OP)"
      ],
      "execution_count": 0,
      "outputs": []
    },
    {
      "cell_type": "code",
      "metadata": {
        "id": "LQg0TXilx7gJ",
        "colab_type": "code",
        "colab": {}
      },
      "source": [
        "# Create a tensorflow session\n",
        "sess = tf.Session()\n",
        "\n",
        "# Initialize our weights and biases variables.\n",
        "init_OP = tf.global_variables_initializer()\n",
        "\n",
        "# Initialize all tensorflow variables\n",
        "sess.run(init_OP)"
      ],
      "execution_count": 0,
      "outputs": []
    },
    {
      "cell_type": "code",
      "metadata": {
        "id": "CKRKmEPpyAHw",
        "colab_type": "code",
        "colab": {}
      },
      "source": [
        "# argmax(activation_OP, 1) returns the label with the most probability\n",
        "# argmax(yGold, 1) is the correct label\n",
        "correct_predictions_OP = tf.equal(tf.argmax(activation_OP,1),tf.argmax(yGold,1))\n",
        "\n",
        "# If every false prediction is 0 and every true prediction is 1, the average returns us the accuracy\n",
        "accuracy_OP = tf.reduce_mean(tf.cast(correct_predictions_OP, \"float\"))\n",
        "\n",
        "# Summary op for regression output\n",
        "activation_summary_OP = tf.summary.histogram(\"output\", activation_OP)\n",
        "\n",
        "# Summary op for accuracy\n",
        "accuracy_summary_OP = tf.summary.scalar(\"accuracy\", accuracy_OP)\n",
        "\n",
        "# Summary op for cost\n",
        "cost_summary_OP = tf.summary.scalar(\"cost\", cost_OP)\n",
        "\n",
        "# Summary ops to check how variables (W, b) are updating after each iteration\n",
        "weightSummary = tf.summary.histogram(\"weights\", weights.eval(session=sess))\n",
        "biasSummary = tf.summary.histogram(\"biases\", bias.eval(session=sess))\n",
        "\n",
        "# Merge all summaries\n",
        "merged = tf.summary.merge([activation_summary_OP, accuracy_summary_OP, cost_summary_OP, weightSummary, biasSummary])\n",
        "\n",
        "# Summary writer\n",
        "writer = tf.summary.FileWriter(\"summary_logs\", sess.graph)"
      ],
      "execution_count": 0,
      "outputs": []
    },
    {
      "cell_type": "code",
      "metadata": {
        "id": "6F33j1pJyP4i",
        "colab_type": "code",
        "colab": {
          "base_uri": "https://localhost:8080/",
          "height": 1000
        },
        "outputId": "f2369541-6c70-487a-bf60-0b577f870539"
      },
      "source": [
        "# Initialize reporting variables\n",
        "cost = 0\n",
        "diff = 1\n",
        "epoch_values = []\n",
        "accuracy_values = []\n",
        "cost_values = []\n",
        "\n",
        "# Training epochs\n",
        "for i in range(numEpochs):\n",
        "    if i > 1 and diff < .0001:\n",
        "        print(\"change in cost %g; convergence.\"%diff)\n",
        "        break\n",
        "    else:\n",
        "        # Run training step\n",
        "        step = sess.run(training_OP, feed_dict={X: trainX, yGold: trainY})\n",
        "        # Report occasional stats\n",
        "        if i % 10 == 0:\n",
        "            # Add epoch to epoch_values\n",
        "            epoch_values.append(i)\n",
        "            # Generate accuracy stats on test data\n",
        "            train_accuracy, newCost = sess.run([accuracy_OP, cost_OP], feed_dict={X: trainX, yGold: trainY})\n",
        "            # Add accuracy to live graphing variable\n",
        "            accuracy_values.append(train_accuracy)\n",
        "            # Add cost to live graphing variable\n",
        "            cost_values.append(newCost)\n",
        "            # Re-assign values for variables\n",
        "            diff = abs(newCost - cost)\n",
        "            cost = newCost\n",
        "\n",
        "            #generate print statements\n",
        "            print(\"step %d, training accuracy %g, cost %g, change in cost %g\"%(i, train_accuracy, newCost, diff))\n",
        "\n",
        "\n",
        "# How well do we perform on held-out test data?\n",
        "print(\"final accuracy on test set: %s\" %str(sess.run(accuracy_OP, \n",
        "                                                     feed_dict={X: testX, \n",
        "                                                                yGold: testY})))"
      ],
      "execution_count": 24,
      "outputs": [
        {
          "output_type": "stream",
          "text": [
            "step 0, training accuracy 0.333333, cost 34.3098, change in cost 34.3098\n",
            "step 10, training accuracy 0.585859, cost 30.074, change in cost 4.23582\n",
            "step 20, training accuracy 0.646465, cost 28.1352, change in cost 1.93882\n",
            "step 30, training accuracy 0.646465, cost 26.4989, change in cost 1.63627\n",
            "step 40, training accuracy 0.646465, cost 25.1393, change in cost 1.35967\n",
            "step 50, training accuracy 0.646465, cost 24.0158, change in cost 1.12348\n",
            "step 60, training accuracy 0.646465, cost 23.0856, change in cost 0.930134\n",
            "step 70, training accuracy 0.646465, cost 22.3106, change in cost 0.775064\n",
            "step 80, training accuracy 0.646465, cost 21.659, change in cost 0.651573\n",
            "step 90, training accuracy 0.646465, cost 21.1058, change in cost 0.553194\n",
            "step 100, training accuracy 0.656566, cost 20.6314, change in cost 0.474442\n",
            "step 110, training accuracy 0.666667, cost 20.2204, change in cost 0.410944\n",
            "step 120, training accuracy 0.666667, cost 19.8611, change in cost 0.359324\n",
            "step 130, training accuracy 0.666667, cost 19.5441, change in cost 0.31699\n",
            "step 140, training accuracy 0.666667, cost 19.2621, change in cost 0.281971\n",
            "step 150, training accuracy 0.666667, cost 19.0094, change in cost 0.252752\n",
            "step 160, training accuracy 0.676768, cost 18.7812, change in cost 0.228167\n",
            "step 170, training accuracy 0.686869, cost 18.5739, change in cost 0.207321\n",
            "step 180, training accuracy 0.686869, cost 18.3844, change in cost 0.18952\n",
            "step 190, training accuracy 0.707071, cost 18.2102, change in cost 0.174202\n",
            "step 200, training accuracy 0.717172, cost 18.0492, change in cost 0.16094\n",
            "step 210, training accuracy 0.737374, cost 17.8999, change in cost 0.14938\n",
            "step 220, training accuracy 0.737374, cost 17.7606, change in cost 0.139252\n",
            "step 230, training accuracy 0.747475, cost 17.6303, change in cost 0.130325\n",
            "step 240, training accuracy 0.757576, cost 17.5079, change in cost 0.122412\n",
            "step 250, training accuracy 0.767677, cost 17.3925, change in cost 0.115366\n",
            "step 260, training accuracy 0.787879, cost 17.2834, change in cost 0.109064\n",
            "step 270, training accuracy 0.787879, cost 17.18, change in cost 0.103403\n",
            "step 280, training accuracy 0.787879, cost 17.0818, change in cost 0.0982914\n",
            "step 290, training accuracy 0.787879, cost 16.9881, change in cost 0.0936623\n",
            "step 300, training accuracy 0.79798, cost 16.8986, change in cost 0.0894508\n",
            "step 310, training accuracy 0.79798, cost 16.813, change in cost 0.0856094\n",
            "step 320, training accuracy 0.79798, cost 16.7309, change in cost 0.0820885\n",
            "step 330, training accuracy 0.79798, cost 16.6521, change in cost 0.0788574\n",
            "step 340, training accuracy 0.808081, cost 16.5762, change in cost 0.0758801\n",
            "step 350, training accuracy 0.818182, cost 16.5031, change in cost 0.073122\n",
            "step 360, training accuracy 0.828283, cost 16.4325, change in cost 0.07057\n",
            "step 370, training accuracy 0.838384, cost 16.3643, change in cost 0.0681992\n",
            "step 380, training accuracy 0.838384, cost 16.2983, change in cost 0.0659866\n",
            "step 390, training accuracy 0.848485, cost 16.2344, change in cost 0.0639267\n",
            "step 400, training accuracy 0.848485, cost 16.1724, change in cost 0.0619907\n",
            "step 410, training accuracy 0.848485, cost 16.1122, change in cost 0.0601807\n",
            "step 420, training accuracy 0.848485, cost 16.0537, change in cost 0.0584793\n",
            "step 430, training accuracy 0.848485, cost 15.9969, change in cost 0.0568714\n",
            "step 440, training accuracy 0.868687, cost 15.9415, change in cost 0.0553579\n",
            "step 450, training accuracy 0.868687, cost 15.8876, change in cost 0.0539274\n",
            "step 460, training accuracy 0.868687, cost 15.835, change in cost 0.0525723\n",
            "step 470, training accuracy 0.878788, cost 15.7837, change in cost 0.0512838\n",
            "step 480, training accuracy 0.878788, cost 15.7337, change in cost 0.0500641\n",
            "step 490, training accuracy 0.878788, cost 15.6848, change in cost 0.0489016\n",
            "step 500, training accuracy 0.878788, cost 15.637, change in cost 0.0477934\n",
            "step 510, training accuracy 0.878788, cost 15.5902, change in cost 0.0467377\n",
            "step 520, training accuracy 0.878788, cost 15.5445, change in cost 0.0457258\n",
            "step 530, training accuracy 0.878788, cost 15.4997, change in cost 0.0447626\n",
            "step 540, training accuracy 0.89899, cost 15.4559, change in cost 0.0438347\n",
            "step 550, training accuracy 0.89899, cost 15.413, change in cost 0.0429497\n",
            "step 560, training accuracy 0.89899, cost 15.3709, change in cost 0.042098\n",
            "step 570, training accuracy 0.89899, cost 15.3296, change in cost 0.0412798\n",
            "step 580, training accuracy 0.89899, cost 15.2891, change in cost 0.040494\n",
            "step 590, training accuracy 0.909091, cost 15.2494, change in cost 0.0397367\n",
            "step 600, training accuracy 0.909091, cost 15.2103, change in cost 0.0390072\n",
            "step 610, training accuracy 0.909091, cost 15.172, change in cost 0.0383024\n",
            "step 620, training accuracy 0.909091, cost 15.1344, change in cost 0.0376244\n",
            "step 630, training accuracy 0.909091, cost 15.0975, change in cost 0.0369701\n",
            "step 640, training accuracy 0.909091, cost 15.0611, change in cost 0.036334\n",
            "step 650, training accuracy 0.909091, cost 15.0254, change in cost 0.0357218\n",
            "step 660, training accuracy 0.909091, cost 14.9903, change in cost 0.0351286\n",
            "step 670, training accuracy 0.909091, cost 14.9557, change in cost 0.0345507\n",
            "step 680, training accuracy 0.909091, cost 14.9217, change in cost 0.0339956\n",
            "step 690, training accuracy 0.909091, cost 14.8883, change in cost 0.033453\n",
            "final accuracy on test set: 0.9\n"
          ],
          "name": "stdout"
        }
      ]
    },
    {
      "cell_type": "code",
      "metadata": {
        "id": "9J2dxBq4yYV3",
        "colab_type": "code",
        "colab": {}
      },
      "source": [
        ""
      ],
      "execution_count": 0,
      "outputs": []
    }
  ]
}