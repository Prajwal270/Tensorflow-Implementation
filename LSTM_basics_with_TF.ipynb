{
  "nbformat": 4,
  "nbformat_minor": 0,
  "metadata": {
    "colab": {
      "name": "LSTM_basics with TF.ipynb",
      "provenance": [],
      "toc_visible": true,
      "authorship_tag": "ABX9TyP4tZ4+7TIrCVzcSDFGWrcE"
    },
    "kernelspec": {
      "name": "python3",
      "display_name": "Python 3"
    }
  },
  "cells": [
    {
      "cell_type": "code",
      "metadata": {
        "id": "gMrWm0OzQzPk",
        "colab_type": "code",
        "colab": {
          "base_uri": "https://localhost:8080/",
          "height": 34
        },
        "outputId": "5fae7b62-d51c-48c2-84e2-929155853d04"
      },
      "source": [
        "print('LSTM Basics with TensorFlow')"
      ],
      "execution_count": 1,
      "outputs": [
        {
          "output_type": "stream",
          "text": [
            "LSTM Basics with TensorFlow\n"
          ],
          "name": "stdout"
        }
      ]
    },
    {
      "cell_type": "markdown",
      "metadata": {
        "id": "Q4nSHiunRPyY",
        "colab_type": "text"
      },
      "source": [
        "First create a tiny LSTM network to understand the architecture of LSTM ntetwork."
      ]
    },
    {
      "cell_type": "code",
      "metadata": {
        "id": "6STIzc-fRACM",
        "colab_type": "code",
        "colab": {
          "base_uri": "https://localhost:8080/",
          "height": 63
        },
        "outputId": "0779fa4c-b9ae-4113-8643-d265c263edfb"
      },
      "source": [
        "# import required libraries\n",
        "import numpy as np \n",
        "import pandas as pd \n",
        "import tensorflow as tf"
      ],
      "execution_count": 2,
      "outputs": [
        {
          "output_type": "display_data",
          "data": {
            "text/html": [
              "<p style=\"color: red;\">\n",
              "The default version of TensorFlow in Colab will soon switch to TensorFlow 2.x.<br>\n",
              "We recommend you <a href=\"https://www.tensorflow.org/guide/migrate\" target=\"_blank\">upgrade</a> now \n",
              "or ensure your notebook will continue to use TensorFlow 1.x via the <code>%tensorflow_version 1.x</code> magic:\n",
              "<a href=\"https://colab.research.google.com/notebooks/tensorflow_version.ipynb\" target=\"_blank\">more info</a>.</p>\n"
            ],
            "text/plain": [
              "<IPython.core.display.HTML object>"
            ]
          },
          "metadata": {
            "tags": []
          }
        }
      ]
    },
    {
      "cell_type": "code",
      "metadata": {
        "id": "G6d73O_lSUeB",
        "colab_type": "code",
        "colab": {}
      },
      "source": [
        "sess = tf.Session()"
      ],
      "execution_count": 0,
      "outputs": []
    },
    {
      "cell_type": "code",
      "metadata": {
        "id": "DWRFOVpPSWhU",
        "colab_type": "code",
        "colab": {}
      },
      "source": [
        "LSTM_CELL_SIZE = 4 # output size (dimenison), which is same as hidden size in the cell"
      ],
      "execution_count": 0,
      "outputs": []
    },
    {
      "cell_type": "markdown",
      "metadata": {
        "id": "tLxJZtidTOHI",
        "colab_type": "text"
      },
      "source": [
        "A simple LSTM cell take three input ,\n",
        "* previous_state \n",
        "* previous_output \n",
        "* current input"
      ]
    },
    {
      "cell_type": "code",
      "metadata": {
        "id": "DmcbN1RLTwS3",
        "colab_type": "code",
        "colab": {
          "base_uri": "https://localhost:8080/",
          "height": 52
        },
        "outputId": "241957e9-39d2-489f-cf31-217ded5acefd"
      },
      "source": [
        "# Creating two tuple with a tensor os size [1,4] , one to give input as previous_state and one to give input as previous_output\n",
        "state = (tf.zeros([1,LSTM_CELL_SIZE]),)*2\n",
        "state"
      ],
      "execution_count": 6,
      "outputs": [
        {
          "output_type": "execute_result",
          "data": {
            "text/plain": [
              "(<tf.Tensor 'zeros_1:0' shape=(1, 4) dtype=float32>,\n",
              " <tf.Tensor 'zeros_1:0' shape=(1, 4) dtype=float32>)"
            ]
          },
          "metadata": {
            "tags": []
          },
          "execution_count": 6
        }
      ]
    },
    {
      "cell_type": "code",
      "metadata": {
        "id": "Us3MFbpyTK2M",
        "colab_type": "code",
        "colab": {
          "base_uri": "https://localhost:8080/",
          "height": 90
        },
        "outputId": "ad2e9646-679b-421e-bfe4-74aa674dca0f"
      },
      "source": [
        "# Creating our first layer of LSTM\n",
        "\n",
        "lstm_cell = tf.contrib.rnn.BasicLSTMCell(LSTM_CELL_SIZE, state_is_tuple=True)"
      ],
      "execution_count": 7,
      "outputs": [
        {
          "output_type": "stream",
          "text": [
            "WARNING:tensorflow:From <ipython-input-7-14ec0de324c5>:2: BasicLSTMCell.__init__ (from tensorflow.python.ops.rnn_cell_impl) is deprecated and will be removed in a future version.\n",
            "Instructions for updating:\n",
            "This class is equivalent as tf.keras.layers.LSTMCell, and will be replaced by that in Tensorflow 2.0.\n"
          ],
          "name": "stdout"
        }
      ]
    },
    {
      "cell_type": "code",
      "metadata": {
        "id": "8LXi_WQ0Uvdt",
        "colab_type": "code",
        "colab": {
          "base_uri": "https://localhost:8080/",
          "height": 34
        },
        "outputId": "73a373fb-ddea-4715-8c8d-fbe2e0f9c494"
      },
      "source": [
        "lstm_cell"
      ],
      "execution_count": 8,
      "outputs": [
        {
          "output_type": "execute_result",
          "data": {
            "text/plain": [
              "<tensorflow.python.ops.rnn_cell_impl.BasicLSTMCell at 0x7fed9e3bf710>"
            ]
          },
          "metadata": {
            "tags": []
          },
          "execution_count": 8
        }
      ]
    },
    {
      "cell_type": "markdown",
      "metadata": {
        "id": "SCVuZ28uU2y5",
        "colab_type": "text"
      },
      "source": [
        "Creating some examples In this case batch_size = 1 and seq_len = 6"
      ]
    },
    {
      "cell_type": "code",
      "metadata": {
        "id": "dj3JGtlyUw_L",
        "colab_type": "code",
        "colab": {
          "base_uri": "https://localhost:8080/",
          "height": 34
        },
        "outputId": "3c571877-c76c-46f1-bf99-279cfa071771"
      },
      "source": [
        "sample_input = np.array([[3,2,2,2,2,2]], dtype = 'float32')\n",
        "sample_input"
      ],
      "execution_count": 11,
      "outputs": [
        {
          "output_type": "execute_result",
          "data": {
            "text/plain": [
              "array([[3., 2., 2., 2., 2., 2.]], dtype=float32)"
            ]
          },
          "metadata": {
            "tags": []
          },
          "execution_count": 11
        }
      ]
    },
    {
      "cell_type": "code",
      "metadata": {
        "id": "Sy80vocuVT-a",
        "colab_type": "code",
        "colab": {
          "base_uri": "https://localhost:8080/",
          "height": 196
        },
        "outputId": "ab02d22e-b23b-46f4-be34-4a50dd38f563"
      },
      "source": [
        "with tf.variable_scope('LSTM_sample1'):\n",
        "  output, new_state = lstm_cell(sample_input, state)\n",
        "sess.run(tf.global_variables_initializer())\n",
        "print(sess.run(new_state))  "
      ],
      "execution_count": 12,
      "outputs": [
        {
          "output_type": "stream",
          "text": [
            "WARNING:tensorflow:From /usr/local/lib/python3.6/dist-packages/tensorflow_core/python/ops/rnn_cell_impl.py:735: Layer.add_variable (from tensorflow.python.keras.engine.base_layer) is deprecated and will be removed in a future version.\n",
            "Instructions for updating:\n",
            "Please use `layer.add_weight` method instead.\n",
            "WARNING:tensorflow:From /usr/local/lib/python3.6/dist-packages/tensorflow_core/python/ops/rnn_cell_impl.py:739: calling Zeros.__init__ (from tensorflow.python.ops.init_ops) with dtype is deprecated and will be removed in a future version.\n",
            "Instructions for updating:\n",
            "Call initializer instance with the dtype argument instead of passing it to the constructor\n",
            "LSTMStateTuple(c=array([[-0.8484598 , -0.6415175 , -0.21893793, -0.7073433 ]],\n",
            "      dtype=float32), h=array([[-0.03540314, -0.5423226 , -0.12868975, -0.15458754]],\n",
            "      dtype=float32))\n"
          ],
          "name": "stdout"
        }
      ]
    },
    {
      "cell_type": "code",
      "metadata": {
        "id": "X1OD9IYzWD7Y",
        "colab_type": "code",
        "colab": {
          "base_uri": "https://localhost:8080/",
          "height": 70
        },
        "outputId": "95e87049-667c-4d69-9075-5f98143ca322"
      },
      "source": [
        "print(sess.run(new_state)) "
      ],
      "execution_count": 13,
      "outputs": [
        {
          "output_type": "stream",
          "text": [
            "LSTMStateTuple(c=array([[-0.8484598 , -0.6415175 , -0.21893793, -0.7073433 ]],\n",
            "      dtype=float32), h=array([[-0.03540314, -0.5423226 , -0.12868975, -0.15458754]],\n",
            "      dtype=float32))\n"
          ],
          "name": "stdout"
        }
      ]
    },
    {
      "cell_type": "code",
      "metadata": {
        "id": "tFa9rfeeWPFT",
        "colab_type": "code",
        "colab": {
          "base_uri": "https://localhost:8080/",
          "height": 34
        },
        "outputId": "86f0793b-fcd3-4169-b647-fcb20010165e"
      },
      "source": [
        "print(sess.run(output))"
      ],
      "execution_count": 14,
      "outputs": [
        {
          "output_type": "stream",
          "text": [
            "[[-0.03540314 -0.5423226  -0.12868975 -0.15458754]]\n"
          ],
          "name": "stdout"
        }
      ]
    },
    {
      "cell_type": "markdown",
      "metadata": {
        "id": "6vZzZWrOWoLt",
        "colab_type": "text"
      },
      "source": [
        "So, we got result in the above case with a simple one layer LSTM cell"
      ]
    },
    {
      "cell_type": "markdown",
      "metadata": {
        "id": "4Z2GI2rPWywh",
        "colab_type": "text"
      },
      "source": [
        "### Stacked LSTM"
      ]
    },
    {
      "cell_type": "markdown",
      "metadata": {
        "id": "8OOQJMTKW8_r",
        "colab_type": "text"
      },
      "source": [
        "We will make more than one cell or layer of LSTM here."
      ]
    },
    {
      "cell_type": "code",
      "metadata": {
        "id": "teI_t-rKWTrR",
        "colab_type": "code",
        "colab": {}
      },
      "source": [
        "cell =[]"
      ],
      "execution_count": 0,
      "outputs": []
    },
    {
      "cell_type": "code",
      "metadata": {
        "id": "qXWk_eBcXTR8",
        "colab_type": "code",
        "colab": {}
      },
      "source": [
        "LSTM_CELL_SIZE1 = 4 # number of hidden nodes\n"
      ],
      "execution_count": 0,
      "outputs": []
    },
    {
      "cell_type": "code",
      "metadata": {
        "id": "TvSqv8_6Xbt5",
        "colab_type": "code",
        "colab": {}
      },
      "source": [
        "input_dim = 6 \n",
        "sess1 = tf.Session()"
      ],
      "execution_count": 0,
      "outputs": []
    },
    {
      "cell_type": "code",
      "metadata": {
        "id": "pdAlOLSQXhoJ",
        "colab_type": "code",
        "colab": {}
      },
      "source": [
        "cell1 = tf.contrib.rnn.BasicLSTMCell(LSTM_CELL_SIZE1)"
      ],
      "execution_count": 0,
      "outputs": []
    },
    {
      "cell_type": "code",
      "metadata": {
        "id": "K4oDCDzfXp_a",
        "colab_type": "code",
        "colab": {
          "base_uri": "https://localhost:8080/",
          "height": 34
        },
        "outputId": "93e829ec-fefb-4f77-def3-e23aad3beb1a"
      },
      "source": [
        "cell1"
      ],
      "execution_count": 19,
      "outputs": [
        {
          "output_type": "execute_result",
          "data": {
            "text/plain": [
              "<tensorflow.python.ops.rnn_cell_impl.BasicLSTMCell at 0x7fed9d09e358>"
            ]
          },
          "metadata": {
            "tags": []
          },
          "execution_count": 19
        }
      ]
    },
    {
      "cell_type": "code",
      "metadata": {
        "id": "v3NoFP9JXq_n",
        "colab_type": "code",
        "colab": {}
      },
      "source": [
        "cell.append(cell1)"
      ],
      "execution_count": 0,
      "outputs": []
    },
    {
      "cell_type": "code",
      "metadata": {
        "id": "OOfO1vTcX6ei",
        "colab_type": "code",
        "colab": {}
      },
      "source": [
        "LSTM_CELL_SIZE2 = 5 # 5 number of hidden nodes"
      ],
      "execution_count": 0,
      "outputs": []
    },
    {
      "cell_type": "code",
      "metadata": {
        "id": "GGV6BNpqXui_",
        "colab_type": "code",
        "colab": {
          "base_uri": "https://localhost:8080/",
          "height": 90
        },
        "outputId": "fa179053-90ca-44c3-ed35-77e133e10101"
      },
      "source": [
        "cell2 = tf.contrib.rnn.LSTMCell(LSTM_CELL_SIZE2)"
      ],
      "execution_count": 22,
      "outputs": [
        {
          "output_type": "stream",
          "text": [
            "WARNING:tensorflow:From <ipython-input-22-a36b9f8427e6>:1: LSTMCell.__init__ (from tensorflow.python.ops.rnn_cell_impl) is deprecated and will be removed in a future version.\n",
            "Instructions for updating:\n",
            "This class is equivalent as tf.keras.layers.LSTMCell, and will be replaced by that in Tensorflow 2.0.\n"
          ],
          "name": "stdout"
        }
      ]
    },
    {
      "cell_type": "code",
      "metadata": {
        "id": "mZ2EAJvmYDmr",
        "colab_type": "code",
        "colab": {}
      },
      "source": [
        "cell.append(cell2)"
      ],
      "execution_count": 0,
      "outputs": []
    },
    {
      "cell_type": "code",
      "metadata": {
        "id": "AxqxivnwYGd0",
        "colab_type": "code",
        "colab": {
          "base_uri": "https://localhost:8080/",
          "height": 90
        },
        "outputId": "3b7fab93-09a1-4c59-8f23-42460da7d938"
      },
      "source": [
        "# Now define the stacked lstm\n",
        "stacked_lstm = tf.contrib.rnn.MultiRNNCell(cell)"
      ],
      "execution_count": 24,
      "outputs": [
        {
          "output_type": "stream",
          "text": [
            "WARNING:tensorflow:From <ipython-input-24-67e0de98b7f7>:1: MultiRNNCell.__init__ (from tensorflow.python.ops.rnn_cell_impl) is deprecated and will be removed in a future version.\n",
            "Instructions for updating:\n",
            "This class is equivalent as tf.keras.layers.StackedRNNCells, and will be replaced by that in Tensorflow 2.0.\n"
          ],
          "name": "stdout"
        }
      ]
    },
    {
      "cell_type": "code",
      "metadata": {
        "id": "_kbKvheWYOf8",
        "colab_type": "code",
        "colab": {
          "base_uri": "https://localhost:8080/",
          "height": 34
        },
        "outputId": "7941f112-a2ae-455f-8fa9-1fc8f70ad00d"
      },
      "source": [
        "stacked_lstm"
      ],
      "execution_count": 25,
      "outputs": [
        {
          "output_type": "execute_result",
          "data": {
            "text/plain": [
              "<tensorflow.python.ops.rnn_cell_impl.MultiRNNCell at 0x7fed9d09eda0>"
            ]
          },
          "metadata": {
            "tags": []
          },
          "execution_count": 25
        }
      ]
    },
    {
      "cell_type": "code",
      "metadata": {
        "id": "h5V3QpZwYPZt",
        "colab_type": "code",
        "colab": {}
      },
      "source": [
        "# Now we don't have data to input in the model, So we create placeholder\n",
        "\n",
        "data = tf.placeholder(tf.float32, shape=[None, None, input_dim])"
      ],
      "execution_count": 0,
      "outputs": []
    },
    {
      "cell_type": "code",
      "metadata": {
        "id": "k-l-Ao6CY8Dx",
        "colab_type": "code",
        "colab": {
          "base_uri": "https://localhost:8080/",
          "height": 90
        },
        "outputId": "be3fe3dc-a7a7-4a02-c321-0fb5160dc5be"
      },
      "source": [
        "# Final layer\n",
        "output, state = tf.nn.dynamic_rnn(stacked_lstm, data, dtype=tf.float32)"
      ],
      "execution_count": 27,
      "outputs": [
        {
          "output_type": "stream",
          "text": [
            "WARNING:tensorflow:From <ipython-input-27-617072769cae>:1: dynamic_rnn (from tensorflow.python.ops.rnn) is deprecated and will be removed in a future version.\n",
            "Instructions for updating:\n",
            "Please use `keras.layers.RNN(cell)`, which is equivalent to this API\n"
          ],
          "name": "stdout"
        }
      ]
    },
    {
      "cell_type": "markdown",
      "metadata": {
        "id": "9TWJv_zteLnt",
        "colab_type": "text"
      },
      "source": [
        "Lets say the input sequence length is 3, and the dimensionality of the inputs is 6. The input should be a Tensor of shape: [batch_size, max_time, dimension], in our case it would be (2, 3, 6)"
      ]
    },
    {
      "cell_type": "code",
      "metadata": {
        "id": "qNPY2XvJZQt_",
        "colab_type": "code",
        "colab": {
          "base_uri": "https://localhost:8080/",
          "height": 52
        },
        "outputId": "931b63c0-0a7c-4d8c-ee92-13098855f18c"
      },
      "source": [
        "#Batch size x time steps x features.\n",
        "sample_input = [[[1,2,3,4,3,2], [1,2,1,1,1,2],[1,2,2,2,2,2]],[[1,2,3,4,3,2],[3,2,2,1,1,2],[0,0,0,0,3,2]]]\n",
        "sample_input"
      ],
      "execution_count": 28,
      "outputs": [
        {
          "output_type": "execute_result",
          "data": {
            "text/plain": [
              "[[[1, 2, 3, 4, 3, 2], [1, 2, 1, 1, 1, 2], [1, 2, 2, 2, 2, 2]],\n",
              " [[1, 2, 3, 4, 3, 2], [3, 2, 2, 1, 1, 2], [0, 0, 0, 0, 3, 2]]]"
            ]
          },
          "metadata": {
            "tags": []
          },
          "execution_count": 28
        }
      ]
    },
    {
      "cell_type": "markdown",
      "metadata": {
        "id": "C_JpcxE4eWwz",
        "colab_type": "text"
      },
      "source": [
        "we can now send our input to network, and check the output:"
      ]
    },
    {
      "cell_type": "code",
      "metadata": {
        "id": "vcWWSk-VeSdm",
        "colab_type": "code",
        "colab": {}
      },
      "source": [
        "sess.run(tf.global_variables_initializer())\n",
        "r = sess.run(output, feed_dict={data: sample_input})"
      ],
      "execution_count": 0,
      "outputs": []
    },
    {
      "cell_type": "code",
      "metadata": {
        "id": "-oh7VyWFesqV",
        "colab_type": "code",
        "colab": {
          "base_uri": "https://localhost:8080/",
          "height": 247
        },
        "outputId": "35f8048c-f30b-4efd-d1a7-9648a0c500b5"
      },
      "source": [
        "r"
      ],
      "execution_count": 30,
      "outputs": [
        {
          "output_type": "execute_result",
          "data": {
            "text/plain": [
              "array([[[-0.00222789, -0.02565099, -0.00316924,  0.0219619 ,\n",
              "          0.00994444],\n",
              "        [-0.0085439 , -0.05156004, -0.02473292,  0.02793349,\n",
              "          0.02557539],\n",
              "        [-0.01832867, -0.06897813, -0.05684065,  0.01285889,\n",
              "          0.04414111]],\n",
              "\n",
              "       [[-0.00222789, -0.02565099, -0.00316924,  0.0219619 ,\n",
              "          0.00994444],\n",
              "        [ 0.00550237, -0.07309638, -0.00942218,  0.06529204,\n",
              "          0.03650288],\n",
              "        [ 0.00783434, -0.11582926, -0.04441761,  0.07752813,\n",
              "          0.05473991]]], dtype=float32)"
            ]
          },
          "metadata": {
            "tags": []
          },
          "execution_count": 30
        }
      ]
    },
    {
      "cell_type": "code",
      "metadata": {
        "id": "xmXo72efet7k",
        "colab_type": "code",
        "colab": {
          "base_uri": "https://localhost:8080/",
          "height": 34
        },
        "outputId": "17861f31-8555-4f6c-ddd3-f6bc63608630"
      },
      "source": [
        "r.shape"
      ],
      "execution_count": 31,
      "outputs": [
        {
          "output_type": "execute_result",
          "data": {
            "text/plain": [
              "(2, 3, 5)"
            ]
          },
          "metadata": {
            "tags": []
          },
          "execution_count": 31
        }
      ]
    },
    {
      "cell_type": "markdown",
      "metadata": {
        "id": "jSw-Jo40ezPq",
        "colab_type": "text"
      },
      "source": [
        "As you see, the output is of shape (2, 3, 5), which corresponds to our 2 batches, 3 elements in our sequence, and the dimensionality of the output which is 5.\n",
        "\n"
      ]
    },
    {
      "cell_type": "code",
      "metadata": {
        "id": "TZXHsT2Ze14s",
        "colab_type": "code",
        "colab": {}
      },
      "source": [
        ""
      ],
      "execution_count": 0,
      "outputs": []
    }
  ]
}